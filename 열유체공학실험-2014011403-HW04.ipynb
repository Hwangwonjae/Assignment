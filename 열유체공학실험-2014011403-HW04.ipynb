{
  "nbformat": 4,
  "nbformat_minor": 0,
  "metadata": {
    "colab": {
      "name": "Untitled7.ipynb",
      "provenance": [],
      "include_colab_link": true
    },
    "kernelspec": {
      "name": "python3",
      "display_name": "Python 3"
    }
  },
  "cells": [
    {
      "cell_type": "markdown",
      "metadata": {
        "id": "view-in-github",
        "colab_type": "text"
      },
      "source": [
        "<a href=\"https://colab.research.google.com/github/Hwangwonjae/Assignment/blob/master/%EC%97%B4%EC%9C%A0%EC%B2%B4%EA%B3%B5%ED%95%99%EC%8B%A4%ED%97%98-2014011403-HW04.ipynb\" target=\"_parent\"><img src=\"https://colab.research.google.com/assets/colab-badge.svg\" alt=\"Open In Colab\"/></a>"
      ]
    },
    {
      "cell_type": "code",
      "metadata": {
        "id": "SjbyuhruQzRG",
        "colab_type": "code",
        "colab": {}
      },
      "source": [
        "import numpy as np\n",
        "from numba import jit, vectorize, cuda\n",
        "\n",
        "import os\n",
        "os.environ['NUMBAPRO_LIBDEVICE'] = \"/usr/local/cuda-10.0/nvvm/libdevice\"\n",
        "os.environ['NUMBAPRO_NVVM'] = \"/usr/local/cuda-10.0/nvvm/lib64/libnvvm.so\"\n",
        "\n",
        "구구단_name = [\"Normal 구구단\", \"Numpy 구구단\", \"Numba 구구단\", \"Cuda 구구단\"]\n",
        "구구단 = []\n",
        "time = []\n",
        "\n",
        "numpy_list = np.arange(1,10)\n",
        "\n",
        "def normal_구구단(x) :\n",
        "  \n",
        "  return list(range(x, x*10, x))\n",
        "\n",
        "def numpy_구구단(x) :\n",
        "  \n",
        "  return np.multiply(x, numpy_list)\n",
        "\n",
        "@jit(nopython = True)\n",
        "def numba_구구단(x) :\n",
        "  \n",
        "  return np.multiply(x, numpy_list)\n",
        "  \n",
        "@vectorize(['int64(int64, int64)'], target='cuda')\n",
        "def cuda_구구단(x, y):\n",
        "    return x * y\n",
        "  \n",
        "integer = int(input(\"Input an integer : \"))\n",
        "\n",
        "구구단.append(normal_구구단(integer))\n",
        "구구단.append(numpy_구구단(integer))\n",
        "구구단.append(numba_구구단(integer))\n",
        "구구단.append(cuda_구구단(integer, numpy_list))\n",
        "\n",
        "\n",
        "for i in range(len(구구단_name)) :\n",
        "  \n",
        "  print(구구단_name[i])\n",
        "  \n",
        "  for j in range(numpy_list.shape[0]) :\n",
        "    \n",
        "    print(구구단[i][j])\n",
        "    \n",
        "  print()\n",
        "  \n",
        "print(\"Normal 구구단 Compiling Time(s) : \", end = \"\")\n",
        "%timeit normal_구구단\n",
        "\n",
        "print(\"Numpy 구구단 Compiling Time(s) : \", end = \"\")\n",
        "%timeit numpy_구구단\n",
        "\n",
        "print(\"Numba 구구단 Compiling Time(s) : \", end = \"\")\n",
        "%timeit numba_구구단\n",
        "\n",
        "print(\"Cuda 구구단 Compiling Time(s) : \", end = \"\")\n",
        "%timeit cuda_구구단"
      ],
      "execution_count": 0,
      "outputs": []
    }
  ]
}